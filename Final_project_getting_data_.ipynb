{
  "nbformat": 4,
  "nbformat_minor": 0,
  "metadata": {
    "colab": {
      "name": "Final project getting data .ipynb",
      "provenance": [],
      "collapsed_sections": [],
      "authorship_tag": "ABX9TyP5yODWIoezEQfUq3BmiF5p",
      "include_colab_link": true
    },
    "kernelspec": {
      "name": "python3",
      "display_name": "Python 3"
    }
  },
  "cells": [
    {
      "cell_type": "markdown",
      "metadata": {
        "id": "view-in-github",
        "colab_type": "text"
      },
      "source": [
        "<a href=\"https://colab.research.google.com/github/LuizQuinelato96/Coursera_Capstone/blob/master/Final_project_getting_data_.ipynb\" target=\"_parent\"><img src=\"https://colab.research.google.com/assets/colab-badge.svg\" alt=\"Open In Colab\"/></a>"
      ]
    },
    {
      "cell_type": "markdown",
      "metadata": {
        "id": "XSFZ45Dd3Bs9",
        "colab_type": "text"
      },
      "source": [
        "### Import libraries"
      ]
    },
    {
      "cell_type": "code",
      "metadata": {
        "id": "_tOpa5qLTIPs",
        "colab_type": "code",
        "colab": {
          "base_uri": "https://localhost:8080/",
          "height": 85
        },
        "outputId": "e9232e90-87ba-4c57-c690-dfabc67e3075"
      },
      "source": [
        "import requests # library to handle requests\n",
        "import pandas as pd # library for data analsysis\n",
        "import numpy as np # library to handle data in a vectorized manner\n",
        "import random # library for random number generation\n",
        "\n",
        "!conda install -c conda-forge geopy --yes \n",
        "from geopy.geocoders import Nominatim # module to convert an address into latitude and longitude values\n",
        "\n",
        "# libraries for displaying images\n",
        "from IPython.display import Image \n",
        "from IPython.core.display import HTML \n",
        "    \n",
        "# tranforming json file into a pandas dataframe library\n",
        "from pandas.io.json import json_normalize\n",
        "\n",
        "!conda install -c conda-forge folium=0.5.0 --yes\n",
        "import folium # plotting library\n",
        "\n",
        "print('Folium installed')\n",
        "print('Libraries imported.')"
      ],
      "execution_count": null,
      "outputs": [
        {
          "output_type": "stream",
          "text": [
            "/bin/bash: conda: command not found\n",
            "/bin/bash: conda: command not found\n",
            "Folium installed\n",
            "Libraries imported.\n"
          ],
          "name": "stdout"
        }
      ]
    },
    {
      "cell_type": "markdown",
      "metadata": {
        "id": "bHDfwTsKXogy",
        "colab_type": "text"
      },
      "source": [
        "## Credentials\n"
      ]
    },
    {
      "cell_type": "code",
      "metadata": {
        "id": "sf1OxYwPXqHA",
        "colab_type": "code",
        "colab": {
          "base_uri": "https://localhost:8080/",
          "height": 68
        },
        "outputId": "19d681da-9203-4286-c6bc-1dd7e705d4cc"
      },
      "source": [
        "CLIENT_ID = 'MESKSCRJYRPZ0SRI1YQWEV0AHFIMEV0THHQ0J0DQSUPXMEGQ' # your Foursquare ID\n",
        "CLIENT_SECRET = 'VCU0HKNZ0XAKDMSXTG5PG1AKUYOUUSG4SO45A3AAWEWGTDQT' # your Foursquare Secret\n",
        "VERSION = '20200803'\n",
        "LIMIT = 30\n",
        "print('Your credentails:')\n",
        "print('CLIENT_ID: ' + CLIENT_ID)\n",
        "print('CLIENT_SECRET:' + CLIENT_SECRET)"
      ],
      "execution_count": null,
      "outputs": [
        {
          "output_type": "stream",
          "text": [
            "Your credentails:\n",
            "CLIENT_ID: MESKSCRJYRPZ0SRI1YQWEV0AHFIMEV0THHQ0J0DQSUPXMEGQ\n",
            "CLIENT_SECRET:VCU0HKNZ0XAKDMSXTG5PG1AKUYOUUSG4SO45A3AAWEWGTDQT\n"
          ],
          "name": "stdout"
        }
      ]
    },
    {
      "cell_type": "markdown",
      "metadata": {
        "id": "dXU2hhol3MiX",
        "colab_type": "text"
      },
      "source": [
        "## Get Data\n",
        "Here we're going to get data about some most popular venues around Paris. To make sure that we got differents venues I choosed some specifics places to startpoint"
      ]
    },
    {
      "cell_type": "markdown",
      "metadata": {
        "id": "4Vd1lENXfUm8",
        "colab_type": "text"
      },
      "source": [
        "### Get places around 6º arr., França\n"
      ]
    },
    {
      "cell_type": "code",
      "metadata": {
        "id": "YiCS84wwfdLY",
        "colab_type": "code",
        "colab": {
          "base_uri": "https://localhost:8080/",
          "height": 51
        },
        "outputId": "8b2fb3b0-da2a-435e-cacd-08980645f552"
      },
      "source": [
        "address = '16º arr., França'\n",
        "\n",
        "geolocator = Nominatim(user_agent=\"foursquare_agent\")\n",
        "location = geolocator.geocode(address)\n",
        "latitude = location.latitude\n",
        "longitude = location.longitude\n",
        "print(latitude, longitude)\n",
        "\n",
        "radius = 4000\n",
        "url = 'https://api.foursquare.com/v2/venues/explore?client_id={}&client_secret={}&ll={},{}&v={}&radius={}&limit={}'.format(CLIENT_ID, CLIENT_SECRET, latitude, longitude, VERSION, radius, LIMIT)\n",
        "import requests\n",
        "results = requests.get(url).json()\n",
        "'There are {} around Paris with radius equal to {}m'.format(len(results['response']['groups'][0]['items']),radius)\n",
        "\n",
        "items = results['response']['groups'][0]['items']\n",
        "\n",
        "dataframe = json_normalize(items) # flatten JSON\n",
        "\n",
        "# function that extracts the category of the venue\n",
        "def get_category_type(row):\n",
        "    try:\n",
        "        categories_list = row['categories']\n",
        "    except:\n",
        "        categories_list = row['venue.categories']\n",
        "        \n",
        "    if len(categories_list) == 0:\n",
        "        return None\n",
        "    else:\n",
        "        return categories_list[0]['name']\n",
        "# filter columns\n",
        "filtered_columns = ['venue.name', 'venue.categories'] + [col for col in dataframe.columns if col.startswith('venue.location.')] + ['venue.id']\n",
        "dataframe_filtered = dataframe.loc[:, filtered_columns]\n",
        "\n",
        "# filter the category for each row\n",
        "dataframe_filtered['venue.categories'] = dataframe_filtered.apply(get_category_type, axis=1)\n",
        "\n",
        "# clean columns\n",
        "dataframe_filtered.columns = [col.split('.')[-1] for col in dataframe_filtered.columns]\n",
        "\n",
        "data1 = dataframe_filtered[['name',\t'categories',\t'address',\t'lat',\t'lng']]\n"
      ],
      "execution_count": null,
      "outputs": [
        {
          "output_type": "stream",
          "text": [
            "48.8870221 2.3478318\n"
          ],
          "name": "stdout"
        },
        {
          "output_type": "stream",
          "text": [
            "/usr/local/lib/python3.6/dist-packages/ipykernel_launcher.py:17: FutureWarning: pandas.io.json.json_normalize is deprecated, use pandas.json_normalize instead\n"
          ],
          "name": "stderr"
        }
      ]
    },
    {
      "cell_type": "markdown",
      "metadata": {
        "id": "vFyzRELYIJhl",
        "colab_type": "text"
      },
      "source": [
        "### Get data from 20º arr.,França"
      ]
    },
    {
      "cell_type": "code",
      "metadata": {
        "id": "h0xQkNrjHJZW",
        "colab_type": "code",
        "colab": {
          "base_uri": "https://localhost:8080/",
          "height": 51
        },
        "outputId": "277437bc-2c91-4ef1-f441-78515f666cd0"
      },
      "source": [
        "address = '20º arr.,França'\n",
        "geolocator = Nominatim(user_agent=\"foursquare_agent\")\n",
        "location = geolocator.geocode(address)\n",
        "latitude = location.latitude\n",
        "longitude = location.longitude\n",
        "print(latitude, longitude)\n",
        "\n",
        "radius = 4000\n",
        "url = 'https://api.foursquare.com/v2/venues/explore?client_id={}&client_secret={}&ll={},{}&v={}&radius={}&limit={}'.format(CLIENT_ID, CLIENT_SECRET, latitude, longitude, VERSION, radius, LIMIT)\n",
        "\n",
        "import requests\n",
        "results = requests.get(url).json()\n",
        "'There are {} around Paris with radius equal to {}m'.format(len(results['response']['groups'][0]['items']),radius)\n",
        "\n",
        "items = results['response']['groups'][0]['items']\n",
        "\n",
        "\n",
        "dataframe = json_normalize(items) # flatten JSON\n",
        "\n",
        "# filter columns\n",
        "filtered_columns = ['venue.name', 'venue.categories'] + [col for col in dataframe.columns if col.startswith('venue.location.')] + ['venue.id']\n",
        "dataframe_filtered = dataframe.loc[:, filtered_columns]\n",
        "\n",
        "# filter the category for each row\n",
        "dataframe_filtered['venue.categories'] = dataframe_filtered.apply(get_category_type, axis=1)\n",
        "\n",
        "# clean columns\n",
        "dataframe_filtered.columns = [col.split('.')[-1] for col in dataframe_filtered.columns]\n",
        "\n",
        "\n",
        "data2 = dataframe_filtered[['name',\t'categories',\t'address',\t'lat',\t'lng']]\n",
        "#data2"
      ],
      "execution_count": null,
      "outputs": [
        {
          "output_type": "stream",
          "text": [
            "48.8870221 2.3478318\n"
          ],
          "name": "stdout"
        },
        {
          "output_type": "stream",
          "text": [
            "/usr/local/lib/python3.6/dist-packages/ipykernel_launcher.py:18: FutureWarning: pandas.io.json.json_normalize is deprecated, use pandas.json_normalize instead\n"
          ],
          "name": "stderr"
        }
      ]
    },
    {
      "cell_type": "markdown",
      "metadata": {
        "id": "mdWIwR5RcIZA",
        "colab_type": "text"
      },
      "source": [
        "## Get data from 17º arrondissement de Paris"
      ]
    },
    {
      "cell_type": "code",
      "metadata": {
        "id": "f3hgAPSicHpD",
        "colab_type": "code",
        "colab": {
          "base_uri": "https://localhost:8080/",
          "height": 224
        },
        "outputId": "566e13d8-d03d-4771-9349-a4ae3ddd7728"
      },
      "source": [
        "address = '17º arrondissement de Paris'\n",
        "geolocator = Nominatim(user_agent=\"foursquare_agent\")\n",
        "location = geolocator.geocode(address)\n",
        "latitude = location.latitude\n",
        "longitude = location.longitude\n",
        "print(latitude, longitude)\n",
        "\n",
        "radius = 4000\n",
        "url = 'https://api.foursquare.com/v2/venues/explore?client_id={}&client_secret={}&ll={},{}&v={}&radius={}&limit={}'.format(CLIENT_ID, CLIENT_SECRET, latitude, longitude, VERSION, radius, LIMIT)\n",
        "import requests\n",
        "results = requests.get(url).json()\n",
        "'There are {} around Paris with radius equal to {}m'.format(len(results['response']['groups'][0]['items']),radius)\n",
        "items = results['response']['groups'][0]['items']\n",
        "\n",
        "dataframe = json_normalize(items) # flatten JSON\n",
        "\n",
        "# function that extracts the category of the venue\n",
        "def get_category_type(row):\n",
        "    try:\n",
        "        categories_list = row['categories']\n",
        "    except:\n",
        "        categories_list = row['venue.categories']\n",
        "        \n",
        "    if len(categories_list) == 0:\n",
        "        return None\n",
        "    else:\n",
        "        return categories_list[0]['name']\n",
        "# filter columns\n",
        "filtered_columns = ['venue.name', 'venue.categories'] + [col for col in dataframe.columns if col.startswith('venue.location.')] + ['venue.id']\n",
        "dataframe_filtered = dataframe.loc[:, filtered_columns]\n",
        "\n",
        "# filter the category for each row\n",
        "dataframe_filtered['venue.categories'] = dataframe_filtered.apply(get_category_type, axis=1)\n",
        "\n",
        "# clean columns\n",
        "dataframe_filtered.columns = [col.split('.')[-1] for col in dataframe_filtered.columns]\n",
        "\n",
        "dataframe_filtered.head(5)\n",
        "data3 = dataframe_filtered[['name',\t'categories',\t'address',\t'lat',\t'lng']]\n"
      ],
      "execution_count": null,
      "outputs": [
        {
          "output_type": "stream",
          "text": [
            "43.5685538 0.4776069\n"
          ],
          "name": "stdout"
        },
        {
          "output_type": "stream",
          "text": [
            "/usr/local/lib/python3.6/dist-packages/ipykernel_launcher.py:15: FutureWarning: pandas.io.json.json_normalize is deprecated, use pandas.json_normalize instead\n",
            "  from ipykernel import kernelapp as app\n"
          ],
          "name": "stderr"
        },
        {
          "output_type": "execute_result",
          "data": {
            "text/html": [
              "<div>\n",
              "<style scoped>\n",
              "    .dataframe tbody tr th:only-of-type {\n",
              "        vertical-align: middle;\n",
              "    }\n",
              "\n",
              "    .dataframe tbody tr th {\n",
              "        vertical-align: top;\n",
              "    }\n",
              "\n",
              "    .dataframe thead th {\n",
              "        text-align: right;\n",
              "    }\n",
              "</style>\n",
              "<table border=\"1\" class=\"dataframe\">\n",
              "  <thead>\n",
              "    <tr style=\"text-align: right;\">\n",
              "      <th></th>\n",
              "      <th>name</th>\n",
              "      <th>categories</th>\n",
              "      <th>address</th>\n",
              "      <th>lat</th>\n",
              "      <th>lng</th>\n",
              "    </tr>\n",
              "  </thead>\n",
              "  <tbody>\n",
              "    <tr>\n",
              "      <th>0</th>\n",
              "      <td>Créa'Bain</td>\n",
              "      <td>Construction &amp; Landscaping</td>\n",
              "      <td>Le Monge</td>\n",
              "      <td>43.553142</td>\n",
              "      <td>0.447015</td>\n",
              "    </tr>\n",
              "    <tr>\n",
              "      <th>1</th>\n",
              "      <td>LES SERRES DU CEDON</td>\n",
              "      <td>Construction &amp; Landscaping</td>\n",
              "      <td>11, Chemin De Fleurian</td>\n",
              "      <td>43.576551</td>\n",
              "      <td>0.516636</td>\n",
              "    </tr>\n",
              "    <tr>\n",
              "      <th>2</th>\n",
              "      <td>BOTTALICO ESPACE VERT</td>\n",
              "      <td>Construction &amp; Landscaping</td>\n",
              "      <td>Chemin De Boy</td>\n",
              "      <td>43.576629</td>\n",
              "      <td>0.520713</td>\n",
              "    </tr>\n",
              "    <tr>\n",
              "      <th>3</th>\n",
              "      <td>Chateau De Camille</td>\n",
              "      <td>Restaurant</td>\n",
              "      <td>NaN</td>\n",
              "      <td>43.574599</td>\n",
              "      <td>0.526075</td>\n",
              "    </tr>\n",
              "  </tbody>\n",
              "</table>\n",
              "</div>"
            ],
            "text/plain": [
              "                    name                  categories  ...        lat       lng\n",
              "0              Créa'Bain  Construction & Landscaping  ...  43.553142  0.447015\n",
              "1    LES SERRES DU CEDON  Construction & Landscaping  ...  43.576551  0.516636\n",
              "2  BOTTALICO ESPACE VERT  Construction & Landscaping  ...  43.576629  0.520713\n",
              "3     Chateau De Camille                  Restaurant  ...  43.574599  0.526075\n",
              "\n",
              "[4 rows x 5 columns]"
            ]
          },
          "metadata": {
            "tags": []
          },
          "execution_count": 5
        }
      ]
    },
    {
      "cell_type": "code",
      "metadata": {
        "id": "JhoPfB_7gQSQ",
        "colab_type": "code",
        "colab": {
          "base_uri": "https://localhost:8080/",
          "height": 1000
        },
        "outputId": "026bef61-4d70-4afb-a734-240b8017923b"
      },
      "source": [
        "address = '1.º arrondissement de Paris'\n",
        "geolocator = Nominatim(user_agent=\"foursquare_agent\")\n",
        "location = geolocator.geocode(address)\n",
        "latitude = location.latitude\n",
        "longitude = location.longitude\n",
        "print(latitude, longitude)\n",
        "\n",
        "radius = 4000\n",
        "url = 'https://api.foursquare.com/v2/venues/explore?client_id={}&client_secret={}&ll={},{}&v={}&radius={}&limit={}'.format(CLIENT_ID, CLIENT_SECRET, latitude, longitude, VERSION, radius, LIMIT)\n",
        "import requests\n",
        "results = requests.get(url).json()\n",
        "'There are {} around Paris with radius equal to {}m'.format(len(results['response']['groups'][0]['items']),radius)\n",
        "items = results['response']['groups'][0]['items']\n",
        "\n",
        "dataframe = json_normalize(items) # flatten JSON\n",
        "\n",
        "# function that extracts the category of the venue\n",
        "def get_category_type(row):\n",
        "    try:\n",
        "        categories_list = row['categories']\n",
        "    except:\n",
        "        categories_list = row['venue.categories']\n",
        "        \n",
        "    if len(categories_list) == 0:\n",
        "        return None\n",
        "    else:\n",
        "        return categories_list[0]['name']\n",
        "# filter columns\n",
        "filtered_columns = ['venue.name', 'venue.categories'] + [col for col in dataframe.columns if col.startswith('venue.location.')] + ['venue.id']\n",
        "dataframe_filtered = dataframe.loc[:, filtered_columns]\n",
        "\n",
        "# filter the category for each row\n",
        "dataframe_filtered['venue.categories'] = dataframe_filtered.apply(get_category_type, axis=1)\n",
        "\n",
        "# clean columns\n",
        "dataframe_filtered.columns = [col.split('.')[-1] for col in dataframe_filtered.columns]\n",
        "\n",
        "dataframe_filtered.head(5)\n",
        "data4 = dataframe_filtered[['name',\t'categories',\t'address',\t'lat',\t'lng']]\n"
      ],
      "execution_count": null,
      "outputs": [
        {
          "output_type": "stream",
          "text": [
            "48.8199323 2.3645735\n"
          ],
          "name": "stdout"
        },
        {
          "output_type": "stream",
          "text": [
            "/usr/local/lib/python3.6/dist-packages/ipykernel_launcher.py:15: FutureWarning: pandas.io.json.json_normalize is deprecated, use pandas.json_normalize instead\n",
            "  from ipykernel import kernelapp as app\n"
          ],
          "name": "stderr"
        },
        {
          "output_type": "execute_result",
          "data": {
            "text/html": [
              "<div>\n",
              "<style scoped>\n",
              "    .dataframe tbody tr th:only-of-type {\n",
              "        vertical-align: middle;\n",
              "    }\n",
              "\n",
              "    .dataframe tbody tr th {\n",
              "        vertical-align: top;\n",
              "    }\n",
              "\n",
              "    .dataframe thead th {\n",
              "        text-align: right;\n",
              "    }\n",
              "</style>\n",
              "<table border=\"1\" class=\"dataframe\">\n",
              "  <thead>\n",
              "    <tr style=\"text-align: right;\">\n",
              "      <th></th>\n",
              "      <th>name</th>\n",
              "      <th>categories</th>\n",
              "      <th>address</th>\n",
              "      <th>lat</th>\n",
              "      <th>lng</th>\n",
              "    </tr>\n",
              "  </thead>\n",
              "  <tbody>\n",
              "    <tr>\n",
              "      <th>0</th>\n",
              "      <td>New Hoa Khoan</td>\n",
              "      <td>Chinese Restaurant</td>\n",
              "      <td>15 avenue de Choisy</td>\n",
              "      <td>48.820699</td>\n",
              "      <td>2.363337</td>\n",
              "    </tr>\n",
              "    <tr>\n",
              "      <th>1</th>\n",
              "      <td>Thieng Heng</td>\n",
              "      <td>Vietnamese Restaurant</td>\n",
              "      <td>50 avenue d'Ivry</td>\n",
              "      <td>48.823664</td>\n",
              "      <td>2.365195</td>\n",
              "    </tr>\n",
              "    <tr>\n",
              "      <th>2</th>\n",
              "      <td>Phở Tài</td>\n",
              "      <td>Vietnamese Restaurant</td>\n",
              "      <td>13 rue Philibert Lucot</td>\n",
              "      <td>48.822085</td>\n",
              "      <td>2.361297</td>\n",
              "    </tr>\n",
              "    <tr>\n",
              "      <th>3</th>\n",
              "      <td>Dong Tam</td>\n",
              "      <td>Vietnamese Restaurant</td>\n",
              "      <td>12 bis rue Caillaux</td>\n",
              "      <td>48.822598</td>\n",
              "      <td>2.360813</td>\n",
              "    </tr>\n",
              "    <tr>\n",
              "      <th>4</th>\n",
              "      <td>Lao Viet</td>\n",
              "      <td>Vietnamese Restaurant</td>\n",
              "      <td>24 boulevard Masséna</td>\n",
              "      <td>48.823184</td>\n",
              "      <td>2.374036</td>\n",
              "    </tr>\n",
              "    <tr>\n",
              "      <th>5</th>\n",
              "      <td>Coupi Bar</td>\n",
              "      <td>Coffee Shop</td>\n",
              "      <td>48 avenue de la Porte d'Ivry</td>\n",
              "      <td>48.821215</td>\n",
              "      <td>2.370005</td>\n",
              "    </tr>\n",
              "    <tr>\n",
              "      <th>6</th>\n",
              "      <td>Le Prétexte</td>\n",
              "      <td>French Restaurant</td>\n",
              "      <td>2 rue Charles Moureu</td>\n",
              "      <td>48.826469</td>\n",
              "      <td>2.363379</td>\n",
              "    </tr>\n",
              "    <tr>\n",
              "      <th>7</th>\n",
              "      <td>Pho Bida Viet Nam</td>\n",
              "      <td>Vietnamese Restaurant</td>\n",
              "      <td>36-38 rue Nationale</td>\n",
              "      <td>48.824239</td>\n",
              "      <td>2.368000</td>\n",
              "    </tr>\n",
              "    <tr>\n",
              "      <th>8</th>\n",
              "      <td>La Goulette Zmen</td>\n",
              "      <td>Mediterranean Restaurant</td>\n",
              "      <td>4 rue Roger Salengro</td>\n",
              "      <td>48.814531</td>\n",
              "      <td>2.361441</td>\n",
              "    </tr>\n",
              "    <tr>\n",
              "      <th>9</th>\n",
              "      <td>Tang Frères</td>\n",
              "      <td>Supermarket</td>\n",
              "      <td>48 avenue d'Ivry</td>\n",
              "      <td>48.823929</td>\n",
              "      <td>2.365380</td>\n",
              "    </tr>\n",
              "    <tr>\n",
              "      <th>10</th>\n",
              "      <td>Sidi Bou</td>\n",
              "      <td>Mediterranean Restaurant</td>\n",
              "      <td>16 rue du Général Leclerc</td>\n",
              "      <td>48.814520</td>\n",
              "      <td>2.359715</td>\n",
              "    </tr>\n",
              "    <tr>\n",
              "      <th>11</th>\n",
              "      <td>Thai Yim 2</td>\n",
              "      <td>Thai Restaurant</td>\n",
              "      <td>70 rue du Château-des-Rentiers</td>\n",
              "      <td>48.826413</td>\n",
              "      <td>2.369163</td>\n",
              "    </tr>\n",
              "    <tr>\n",
              "      <th>12</th>\n",
              "      <td>Mondol Kiri</td>\n",
              "      <td>Cambodian Restaurant</td>\n",
              "      <td>159-161 avenue de Choisy</td>\n",
              "      <td>48.828115</td>\n",
              "      <td>2.358367</td>\n",
              "    </tr>\n",
              "    <tr>\n",
              "      <th>13</th>\n",
              "      <td>Lao Douang Chan</td>\n",
              "      <td>Asian Restaurant</td>\n",
              "      <td>161 avenue de Choisy</td>\n",
              "      <td>48.828182</td>\n",
              "      <td>2.358349</td>\n",
              "    </tr>\n",
              "    <tr>\n",
              "      <th>14</th>\n",
              "      <td>Caminito Cabaret</td>\n",
              "      <td>Restaurant</td>\n",
              "      <td>48 rue du Dessous des Berges</td>\n",
              "      <td>48.827066</td>\n",
              "      <td>2.374365</td>\n",
              "    </tr>\n",
              "    <tr>\n",
              "      <th>15</th>\n",
              "      <td>Tempero</td>\n",
              "      <td>Brazilian Restaurant</td>\n",
              "      <td>5 rue Clisson</td>\n",
              "      <td>48.833057</td>\n",
              "      <td>2.369423</td>\n",
              "    </tr>\n",
              "    <tr>\n",
              "      <th>16</th>\n",
              "      <td>Sésame et Sel</td>\n",
              "      <td>Korean Restaurant</td>\n",
              "      <td>11 bis rue Roger Salengro</td>\n",
              "      <td>48.814815</td>\n",
              "      <td>2.361971</td>\n",
              "    </tr>\n",
              "    <tr>\n",
              "      <th>17</th>\n",
              "      <td>MK2 Bibliothèque</td>\n",
              "      <td>Multiplex</td>\n",
              "      <td>128-162 avenue de France</td>\n",
              "      <td>48.832063</td>\n",
              "      <td>2.375887</td>\n",
              "    </tr>\n",
              "    <tr>\n",
              "      <th>18</th>\n",
              "      <td>Studio Luna Rossa</td>\n",
              "      <td>Recording Studio</td>\n",
              "      <td>24 rue Primo Levi</td>\n",
              "      <td>48.831015</td>\n",
              "      <td>2.378550</td>\n",
              "    </tr>\n",
              "    <tr>\n",
              "      <th>19</th>\n",
              "      <td>Le Débonnaire</td>\n",
              "      <td>French Restaurant</td>\n",
              "      <td>107 rue du Chevaleret</td>\n",
              "      <td>48.831025</td>\n",
              "      <td>2.374483</td>\n",
              "    </tr>\n",
              "    <tr>\n",
              "      <th>20</th>\n",
              "      <td>Square René Le Gall</td>\n",
              "      <td>Park</td>\n",
              "      <td>Rue Croulebarbe</td>\n",
              "      <td>48.832605</td>\n",
              "      <td>2.349422</td>\n",
              "    </tr>\n",
              "    <tr>\n",
              "      <th>21</th>\n",
              "      <td>La Felicità</td>\n",
              "      <td>Italian Restaurant</td>\n",
              "      <td>55 boulevard Vincent Auriol</td>\n",
              "      <td>48.832280</td>\n",
              "      <td>2.372702</td>\n",
              "    </tr>\n",
              "    <tr>\n",
              "      <th>22</th>\n",
              "      <td>Les Frigos</td>\n",
              "      <td>Performing Arts Venue</td>\n",
              "      <td>19 rue des Frigos</td>\n",
              "      <td>48.831385</td>\n",
              "      <td>2.379262</td>\n",
              "    </tr>\n",
              "    <tr>\n",
              "      <th>23</th>\n",
              "      <td>Parc Montsouris</td>\n",
              "      <td>Park</td>\n",
              "      <td>Boulevard Jourdan</td>\n",
              "      <td>48.822519</td>\n",
              "      <td>2.337840</td>\n",
              "    </tr>\n",
              "    <tr>\n",
              "      <th>24</th>\n",
              "      <td>Bateau El Alamein</td>\n",
              "      <td>Lounge</td>\n",
              "      <td>Port de la Gare</td>\n",
              "      <td>48.834382</td>\n",
              "      <td>2.377970</td>\n",
              "    </tr>\n",
              "    <tr>\n",
              "      <th>25</th>\n",
              "      <td>Parc de la Cité Internationale Universitaire</td>\n",
              "      <td>Park</td>\n",
              "      <td>Cité Internationale Universitaire</td>\n",
              "      <td>48.818503</td>\n",
              "      <td>2.337438</td>\n",
              "    </tr>\n",
              "    <tr>\n",
              "      <th>26</th>\n",
              "      <td>Pizza Caravelle</td>\n",
              "      <td>Italian Restaurant</td>\n",
              "      <td>5 bis rue d'Alésia</td>\n",
              "      <td>48.826695</td>\n",
              "      <td>2.339242</td>\n",
              "    </tr>\n",
              "    <tr>\n",
              "      <th>27</th>\n",
              "      <td>Le KB</td>\n",
              "      <td>Wine Bar</td>\n",
              "      <td>114 avenue de Fontainebleau</td>\n",
              "      <td>48.808681</td>\n",
              "      <td>2.362320</td>\n",
              "    </tr>\n",
              "    <tr>\n",
              "      <th>28</th>\n",
              "      <td>Store MK2</td>\n",
              "      <td>Bookstore</td>\n",
              "      <td>128 avenue de France</td>\n",
              "      <td>48.832397</td>\n",
              "      <td>2.375442</td>\n",
              "    </tr>\n",
              "    <tr>\n",
              "      <th>29</th>\n",
              "      <td>Au Bon Coin</td>\n",
              "      <td>French Restaurant</td>\n",
              "      <td>21 rue de la Collégiale</td>\n",
              "      <td>48.838120</td>\n",
              "      <td>2.351800</td>\n",
              "    </tr>\n",
              "  </tbody>\n",
              "</table>\n",
              "</div>"
            ],
            "text/plain": [
              "                                            name  ...       lng\n",
              "0                                  New Hoa Khoan  ...  2.363337\n",
              "1                                    Thieng Heng  ...  2.365195\n",
              "2                                        Phở Tài  ...  2.361297\n",
              "3                                       Dong Tam  ...  2.360813\n",
              "4                                       Lao Viet  ...  2.374036\n",
              "5                                      Coupi Bar  ...  2.370005\n",
              "6                                    Le Prétexte  ...  2.363379\n",
              "7                              Pho Bida Viet Nam  ...  2.368000\n",
              "8                               La Goulette Zmen  ...  2.361441\n",
              "9                                    Tang Frères  ...  2.365380\n",
              "10                                      Sidi Bou  ...  2.359715\n",
              "11                                    Thai Yim 2  ...  2.369163\n",
              "12                                   Mondol Kiri  ...  2.358367\n",
              "13                               Lao Douang Chan  ...  2.358349\n",
              "14                              Caminito Cabaret  ...  2.374365\n",
              "15                                       Tempero  ...  2.369423\n",
              "16                                 Sésame et Sel  ...  2.361971\n",
              "17                              MK2 Bibliothèque  ...  2.375887\n",
              "18                             Studio Luna Rossa  ...  2.378550\n",
              "19                                 Le Débonnaire  ...  2.374483\n",
              "20                           Square René Le Gall  ...  2.349422\n",
              "21                                   La Felicità  ...  2.372702\n",
              "22                                    Les Frigos  ...  2.379262\n",
              "23                               Parc Montsouris  ...  2.337840\n",
              "24                             Bateau El Alamein  ...  2.377970\n",
              "25  Parc de la Cité Internationale Universitaire  ...  2.337438\n",
              "26                               Pizza Caravelle  ...  2.339242\n",
              "27                                         Le KB  ...  2.362320\n",
              "28                                     Store MK2  ...  2.375442\n",
              "29                                   Au Bon Coin  ...  2.351800\n",
              "\n",
              "[30 rows x 5 columns]"
            ]
          },
          "metadata": {
            "tags": []
          },
          "execution_count": 6
        }
      ]
    },
    {
      "cell_type": "markdown",
      "metadata": {
        "id": "OD_hUxNw6CbD",
        "colab_type": "text"
      },
      "source": [
        "### Joining Data"
      ]
    },
    {
      "cell_type": "code",
      "metadata": {
        "id": "rZXadcFBLZ7S",
        "colab_type": "code",
        "colab": {
          "base_uri": "https://localhost:8080/",
          "height": 419
        },
        "outputId": "7b0540a4-e848-4b43-db8e-85fb1c40c2d7"
      },
      "source": [
        "data = data1.append(data2).append(data3).append(data4).reset_index()\n",
        "#data.drop_duplicates().shape\n",
        "data"
      ],
      "execution_count": null,
      "outputs": [
        {
          "output_type": "execute_result",
          "data": {
            "text/html": [
              "<div>\n",
              "<style scoped>\n",
              "    .dataframe tbody tr th:only-of-type {\n",
              "        vertical-align: middle;\n",
              "    }\n",
              "\n",
              "    .dataframe tbody tr th {\n",
              "        vertical-align: top;\n",
              "    }\n",
              "\n",
              "    .dataframe thead th {\n",
              "        text-align: right;\n",
              "    }\n",
              "</style>\n",
              "<table border=\"1\" class=\"dataframe\">\n",
              "  <thead>\n",
              "    <tr style=\"text-align: right;\">\n",
              "      <th></th>\n",
              "      <th>index</th>\n",
              "      <th>name</th>\n",
              "      <th>categories</th>\n",
              "      <th>address</th>\n",
              "      <th>lat</th>\n",
              "      <th>lng</th>\n",
              "    </tr>\n",
              "  </thead>\n",
              "  <tbody>\n",
              "    <tr>\n",
              "      <th>0</th>\n",
              "      <td>0</td>\n",
              "      <td>Hardware Société</td>\n",
              "      <td>Breakfast Spot</td>\n",
              "      <td>10 rue Lamarck</td>\n",
              "      <td>48.886901</td>\n",
              "      <td>2.344463</td>\n",
              "    </tr>\n",
              "    <tr>\n",
              "      <th>1</th>\n",
              "      <td>1</td>\n",
              "      <td>Le Myrha</td>\n",
              "      <td>Vegetarian / Vegan Restaurant</td>\n",
              "      <td>70 rue Myrha</td>\n",
              "      <td>48.886815</td>\n",
              "      <td>2.350892</td>\n",
              "    </tr>\n",
              "    <tr>\n",
              "      <th>2</th>\n",
              "      <td>2</td>\n",
              "      <td>Dôme de la Basilique du Sacré-Cœur</td>\n",
              "      <td>Scenic Lookout</td>\n",
              "      <td>Basilique du Sacré-Cœur</td>\n",
              "      <td>48.886809</td>\n",
              "      <td>2.343006</td>\n",
              "    </tr>\n",
              "    <tr>\n",
              "      <th>3</th>\n",
              "      <td>3</td>\n",
              "      <td>Babalou</td>\n",
              "      <td>Italian Restaurant</td>\n",
              "      <td>4 rue Lamarck</td>\n",
              "      <td>48.886490</td>\n",
              "      <td>2.344063</td>\n",
              "    </tr>\n",
              "    <tr>\n",
              "      <th>4</th>\n",
              "      <td>4</td>\n",
              "      <td>Comestibles &amp; Marchand de Vins</td>\n",
              "      <td>Wine Bar</td>\n",
              "      <td>65 rue du Mont-Cenis</td>\n",
              "      <td>48.891257</td>\n",
              "      <td>2.343750</td>\n",
              "    </tr>\n",
              "    <tr>\n",
              "      <th>...</th>\n",
              "      <td>...</td>\n",
              "      <td>...</td>\n",
              "      <td>...</td>\n",
              "      <td>...</td>\n",
              "      <td>...</td>\n",
              "      <td>...</td>\n",
              "    </tr>\n",
              "    <tr>\n",
              "      <th>89</th>\n",
              "      <td>25</td>\n",
              "      <td>Parc de la Cité Internationale Universitaire</td>\n",
              "      <td>Park</td>\n",
              "      <td>Cité Internationale Universitaire</td>\n",
              "      <td>48.818503</td>\n",
              "      <td>2.337438</td>\n",
              "    </tr>\n",
              "    <tr>\n",
              "      <th>90</th>\n",
              "      <td>26</td>\n",
              "      <td>Pizza Caravelle</td>\n",
              "      <td>Italian Restaurant</td>\n",
              "      <td>5 bis rue d'Alésia</td>\n",
              "      <td>48.826695</td>\n",
              "      <td>2.339242</td>\n",
              "    </tr>\n",
              "    <tr>\n",
              "      <th>91</th>\n",
              "      <td>27</td>\n",
              "      <td>Le KB</td>\n",
              "      <td>Wine Bar</td>\n",
              "      <td>114 avenue de Fontainebleau</td>\n",
              "      <td>48.808681</td>\n",
              "      <td>2.362320</td>\n",
              "    </tr>\n",
              "    <tr>\n",
              "      <th>92</th>\n",
              "      <td>28</td>\n",
              "      <td>Store MK2</td>\n",
              "      <td>Bookstore</td>\n",
              "      <td>128 avenue de France</td>\n",
              "      <td>48.832397</td>\n",
              "      <td>2.375442</td>\n",
              "    </tr>\n",
              "    <tr>\n",
              "      <th>93</th>\n",
              "      <td>29</td>\n",
              "      <td>Au Bon Coin</td>\n",
              "      <td>French Restaurant</td>\n",
              "      <td>21 rue de la Collégiale</td>\n",
              "      <td>48.838120</td>\n",
              "      <td>2.351800</td>\n",
              "    </tr>\n",
              "  </tbody>\n",
              "</table>\n",
              "<p>94 rows × 6 columns</p>\n",
              "</div>"
            ],
            "text/plain": [
              "    index                                          name  ...        lat       lng\n",
              "0       0                              Hardware Société  ...  48.886901  2.344463\n",
              "1       1                                      Le Myrha  ...  48.886815  2.350892\n",
              "2       2            Dôme de la Basilique du Sacré-Cœur  ...  48.886809  2.343006\n",
              "3       3                                       Babalou  ...  48.886490  2.344063\n",
              "4       4                Comestibles & Marchand de Vins  ...  48.891257  2.343750\n",
              "..    ...                                           ...  ...        ...       ...\n",
              "89     25  Parc de la Cité Internationale Universitaire  ...  48.818503  2.337438\n",
              "90     26                               Pizza Caravelle  ...  48.826695  2.339242\n",
              "91     27                                         Le KB  ...  48.808681  2.362320\n",
              "92     28                                     Store MK2  ...  48.832397  2.375442\n",
              "93     29                                   Au Bon Coin  ...  48.838120  2.351800\n",
              "\n",
              "[94 rows x 6 columns]"
            ]
          },
          "metadata": {
            "tags": []
          },
          "execution_count": 18
        }
      ]
    },
    {
      "cell_type": "markdown",
      "metadata": {
        "id": "ppnckH7C1beY",
        "colab_type": "text"
      },
      "source": [
        "### Frenquency of Categories"
      ]
    },
    {
      "cell_type": "code",
      "metadata": {
        "id": "0CH3AitPCAyW",
        "colab_type": "code",
        "colab": {
          "base_uri": "https://localhost:8080/",
          "height": 680
        },
        "outputId": "5a0e39f9-8043-42d6-bc8e-3ad5a3e20c99"
      },
      "source": [
        "data['categories'].value_counts()"
      ],
      "execution_count": null,
      "outputs": [
        {
          "output_type": "execute_result",
          "data": {
            "text/plain": [
              "French Restaurant                9\n",
              "Italian Restaurant               8\n",
              "Vietnamese Restaurant            5\n",
              "Restaurant                       4\n",
              "Vegetarian / Vegan Restaurant    4\n",
              "Bakery                           4\n",
              "Beer Bar                         4\n",
              "Hotel                            4\n",
              "Coffee Shop                      3\n",
              "Park                             3\n",
              "Construction & Landscaping       3\n",
              "Wine Bar                         3\n",
              "Bar                              2\n",
              "Café                             2\n",
              "Arepa Restaurant                 2\n",
              "Scenic Lookout                   2\n",
              "Deli / Bodega                    2\n",
              "Plaza                            2\n",
              "Cocktail Bar                     2\n",
              "Japanese Restaurant              2\n",
              "Burger Joint                     2\n",
              "Mediterranean Restaurant         2\n",
              "Corsican Restaurant              2\n",
              "Taco Place                       2\n",
              "Gastropub                        2\n",
              "Breakfast Spot                   2\n",
              "Supermarket                      1\n",
              "Thai Restaurant                  1\n",
              "Asian Restaurant                 1\n",
              "Korean Restaurant                1\n",
              "Performing Arts Venue            1\n",
              "Multiplex                        1\n",
              "Cambodian Restaurant             1\n",
              "Brazilian Restaurant             1\n",
              "Chinese Restaurant               1\n",
              "Lounge                           1\n",
              "Bookstore                        1\n",
              "Recording Studio                 1\n",
              "Name: categories, dtype: int64"
            ]
          },
          "metadata": {
            "tags": []
          },
          "execution_count": 21
        }
      ]
    }
  ]
}