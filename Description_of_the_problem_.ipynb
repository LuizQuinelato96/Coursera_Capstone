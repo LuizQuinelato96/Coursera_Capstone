{
  "nbformat": 4,
  "nbformat_minor": 0,
  "metadata": {
    "colab": {
      "name": "Description of the problem  .ipynb",
      "provenance": [],
      "authorship_tag": "ABX9TyMfrSW5iqufEs09lgoWiedt",
      "include_colab_link": true
    },
    "kernelspec": {
      "name": "python3",
      "display_name": "Python 3"
    }
  },
  "cells": [
    {
      "cell_type": "markdown",
      "metadata": {
        "id": "view-in-github",
        "colab_type": "text"
      },
      "source": [
        "<a href=\"https://colab.research.google.com/github/LuizQuinelato96/Coursera_Capstone/blob/master/Description_of_the_problem_.ipynb\" target=\"_parent\"><img src=\"https://colab.research.google.com/assets/colab-badge.svg\" alt=\"Open In Colab\"/></a>"
      ]
    },
    {
      "cell_type": "markdown",
      "metadata": {
        "id": "ea_yTeGIlUfk",
        "colab_type": "text"
      },
      "source": [
        "# Final project"
      ]
    },
    {
      "cell_type": "markdown",
      "metadata": {
        "id": "Ph6IQQJalUBW",
        "colab_type": "text"
      },
      "source": [
        "This project will be refer about what is the most comuns venues around Paris. The main of this final job is to Know what is the best route to visit the most places in Paris. Knowing where we have more places nearby"
      ]
    },
    {
      "cell_type": "markdown",
      "metadata": {
        "id": "TyZ3Cq9WnQx7",
        "colab_type": "text"
      },
      "source": [
        "# Steps\n",
        "The first step is to get the data about venues around Paris. We'll use fousquera API to get this.Then we are apply K-means to get cluster, which means that we are going to discover which places are more closest to each others. To finish we're making some describle about this cluster and may be we can get some interesting discoveries"
      ]
    }
  ]
}