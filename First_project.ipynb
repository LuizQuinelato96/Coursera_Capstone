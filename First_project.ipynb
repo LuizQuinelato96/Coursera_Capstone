{
  "nbformat": 4,
  "nbformat_minor": 0,
  "metadata": {
    "colab": {
      "name": "First project.ipynb",
      "provenance": [],
      "authorship_tag": "ABX9TyO1eAMgqKFCO4GP22pQlmMx",
      "include_colab_link": true
    },
    "kernelspec": {
      "name": "python3",
      "display_name": "Python 3"
    }
  },
  "cells": [
    {
      "cell_type": "markdown",
      "metadata": {
        "id": "view-in-github",
        "colab_type": "text"
      },
      "source": [
        "<a href=\"https://colab.research.google.com/github/LuizQuinelato96/Coursera_Capstone/blob/master/First_project.ipynb\" target=\"_parent\"><img src=\"https://colab.research.google.com/assets/colab-badge.svg\" alt=\"Open In Colab\"/></a>"
      ]
    },
    {
      "cell_type": "markdown",
      "metadata": {
        "id": "n-ISfYsuGoq4",
        "colab_type": "text"
      },
      "source": [
        "## Project number 1\n",
        "This is the first project create by me."
      ]
    },
    {
      "cell_type": "code",
      "metadata": {
        "id": "5oR3FHQEG0G_",
        "colab_type": "code",
        "colab": {}
      },
      "source": [
        "import numpy as np\n",
        "import pandas as pd"
      ],
      "execution_count": 1,
      "outputs": []
    },
    {
      "cell_type": "code",
      "metadata": {
        "id": "oFaWoVBSG6K_",
        "colab_type": "code",
        "colab": {}
      },
      "source": [
        "print(\"Hello Capstone Project Course!\")"
      ],
      "execution_count": null,
      "outputs": []
    }
  ]
}